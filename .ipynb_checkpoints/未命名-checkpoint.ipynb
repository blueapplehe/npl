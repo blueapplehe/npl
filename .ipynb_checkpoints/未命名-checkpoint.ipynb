{
 "cells": [
  {
   "cell_type": "code",
   "execution_count": 1,
   "metadata": {},
   "outputs": [
    {
     "name": "stderr",
     "output_type": "stream",
     "text": [
      "Using TensorFlow backend.\n"
     ]
    },
    {
     "name": "stdout",
     "output_type": "stream",
     "text": [
      "(25000,)\n",
      "(25000, 5)\n",
      "[  16 5345   19  178   32]\n"
     ]
    }
   ],
   "source": [
    "from keras.layers import SimpleRNN\n",
    "from keras.layers import LSTM\n",
    "from keras.models import Sequential\n",
    "from keras.layers import Embedding,SimpleRNN\n",
    "from keras.datasets import imdb\n",
    "from keras.preprocessing import sequence\n",
    "from keras.layers import Dense\n",
    "import numpy as np\n",
    "import sys\n",
    "sys.path.append(\"/data/keras/npl/\")\n",
    "from baidunpl import BaiduNpl\n",
    "max_features=10000\n",
    "maxlen=5\n",
    "batch_size=32\n",
    "(input_train,y_train),(input_test,y_test)=imdb.load_data(num_words=max_features)\n",
    "print(y_train.shape)\n",
    "#print(input_train)\n",
    "input_train=sequence.pad_sequences(input_train,maxlen=maxlen)\n",
    "input_test=sequence.pad_sequences(input_test,maxlen=maxlen)\n",
    "print(input_train.shape)\n",
    "print(input_train[0])\n"
   ]
  },
  {
   "cell_type": "code",
   "execution_count": null,
   "metadata": {},
   "outputs": [],
   "source": [
    "\n",
    "    \n"
   ]
  },
  {
   "cell_type": "code",
   "execution_count": 2,
   "metadata": {},
   "outputs": [
    {
     "name": "stdout",
     "output_type": "stream",
     "text": [
      "(15, 20, 1024)\n",
      "Epoch 1/10\n",
      "15/15 [==============================] - 1s 85ms/step - loss: 1.6131 - acc: 0.0667\n",
      "Epoch 2/10\n",
      "15/15 [==============================] - 0s 6ms/step - loss: 1.5794 - acc: 0.6667\n",
      "Epoch 3/10\n",
      "15/15 [==============================] - 0s 6ms/step - loss: 1.4886 - acc: 0.4000\n",
      "Epoch 4/10\n",
      "15/15 [==============================] - 0s 6ms/step - loss: 1.3600 - acc: 0.4000\n",
      "Epoch 5/10\n",
      "15/15 [==============================] - 0s 6ms/step - loss: 1.2208 - acc: 0.6000\n",
      "Epoch 6/10\n",
      "15/15 [==============================] - 0s 6ms/step - loss: 1.1430 - acc: 0.4667\n",
      "Epoch 7/10\n",
      "15/15 [==============================] - 0s 6ms/step - loss: 0.9841 - acc: 0.7333\n",
      "Epoch 8/10\n",
      "15/15 [==============================] - 0s 7ms/step - loss: 0.8542 - acc: 0.8000\n",
      "Epoch 9/10\n",
      "15/15 [==============================] - 0s 6ms/step - loss: 0.7133 - acc: 0.8000\n",
      "Epoch 10/10\n",
      "15/15 [==============================] - 0s 6ms/step - loss: 0.6035 - acc: 0.8000\n"
     ]
    }
   ],
   "source": [
    "client=BaiduNpl()\n",
    "model = Sequential()\n",
    "model.add(LSTM(32))\n",
    "# model.add(Dense(1, activation='sigmoid'))\n",
    "model.add(Dense(256,activation='relu'))\n",
    "model.add(Dense(5,activation='softmax'))\n",
    "model.compile(optimizer='rmsprop',\n",
    "              loss='categorical_crossentropy',\n",
    "              metrics=['acc'])\n",
    "\n",
    "input_train=[\"后天天气如何\",\"明天天气如何\",\"下周一的天气\",\n",
    "             \"我要去江门\",\"我要去北京故宫的中心\",\"广州长隆怎么去\",\n",
    "             \"我想听张韶涵的歌\",\"来一首张学友的歌\",\"我想听卓依婷的歌\",\n",
    "             \"六点钟提醒我开会\",\"五分钟后提醒睡觉\",\"下午两点提醒我上学\",\n",
    "             \"感冒了吃什么药\",\"发烧了怎么办\",\"眼睛不舒服怎么处理\"]\n",
    "y_train=np.array([[1,0,0,0,0],[1,0,0,0,0],[1,0,0,0,0],\n",
    "                  [0,1,0,0,0],[0,1,0,0,0],[0,1,0,0,0],\n",
    "                  [0,0,1,0,0],[0,0,1,0,0],[0,0,1,0,0],\n",
    "                  [0,0,0,1,0],[0,0,0,1,0],[0,0,0,1,0],\n",
    "                  [0,0,0,0,1],[0,0,0,0,1],[0,0,0,0,1]\n",
    "                 ])\n",
    "input_train2=[]\n",
    "for one_train in input_train:\n",
    "    vecs=client.getVecFromJuzi(one_train)\n",
    "    input_train2.append(vecs)\n",
    "input_train2=np.array(input_train2)\n",
    "\n",
    "input_train2=sequence.pad_sequences(input_train2,dtype=\"float\",maxlen=20,padding='post',truncating='post',)\n",
    "print(input_train2.shape)\n",
    "history = model.fit(input_train2, y_train,epochs=20,batch_size=5)"
   ]
  },
  {
   "cell_type": "code",
   "execution_count": 3,
   "metadata": {},
   "outputs": [
    {
     "name": "stdout",
     "output_type": "stream",
     "text": [
      "(5, 20, 1024)\n",
      "[[ 0.00222101  0.287065   -0.310298   ...  0.792055   -0.267649\n",
      "  -0.536059  ]\n",
      " [-0.132601   -0.163531    0.391658   ...  0.172669   -0.216057\n",
      "   0.510816  ]\n",
      " [-0.445736    0.75746     1.14994    ... -1.17206    -0.184283\n",
      "   0.236828  ]\n",
      " ...\n",
      " [ 0.          0.          0.         ...  0.          0.\n",
      "   0.        ]\n",
      " [ 0.          0.          0.         ...  0.          0.\n",
      "   0.        ]\n",
      " [ 0.          0.          0.         ...  0.          0.\n",
      "   0.        ]]\n",
      "[[0.46365082 0.06854061 0.0650267  0.33145782 0.07132406]\n",
      " [0.02826125 0.43242735 0.2221085  0.03300238 0.28420043]\n",
      " [0.00749998 0.14453943 0.8140046  0.01075056 0.02320553]\n",
      " [0.490266   0.05778563 0.05505958 0.33737397 0.05951479]\n",
      " [0.02836605 0.19709238 0.08153561 0.03079496 0.662211  ]]\n"
     ]
    }
   ],
   "source": [
    "tests=[\"明天会下雨吗\",\"导航到动物园\",\"我想听周杰伦的歌\",\"五点钟提醒我出门\",\"得了结膜炎怎么处理\"]\n",
    "vecs2=[]\n",
    "for test in tests: \n",
    "    vecs=client.getVecFromJuzi(test)  \n",
    "    vecs2.append(vecs)\n",
    "vecs=np.array(vecs2)\n",
    "vecs2=sequence.pad_sequences(vecs2,dtype=\"float\",maxlen=20,padding='post',truncating='post',)\n",
    "print(vecs2.shape)\n",
    "print(vecs2[0])\n",
    "preds = model.predict(vecs2)\n",
    "print(preds)"
   ]
  },
  {
   "cell_type": "code",
   "execution_count": 4,
   "metadata": {},
   "outputs": [],
   "source": [
    "# import matplotlib.pyplot as plt\n",
    "# acc=history.history['acc']\n",
    "# val_acc=history.history['val_acc']\n",
    "# loss=history.history['loss']\n",
    "# val_loss=history.history['val_loss']\n",
    "# epochs=range(1,len(acc)+1)\n",
    "# plt.plot(epochs,acc,'bo',label='Training acc')\n",
    "# plt.plot(epochs,val_acc,'b',label='Validation acc')\n",
    "# plt.legend()\n",
    "# plt.figure()\n",
    "# plt.show()"
   ]
  },
  {
   "cell_type": "code",
   "execution_count": null,
   "metadata": {},
   "outputs": [],
   "source": []
  },
  {
   "cell_type": "code",
   "execution_count": null,
   "metadata": {},
   "outputs": [],
   "source": []
  },
  {
   "cell_type": "code",
   "execution_count": null,
   "metadata": {},
   "outputs": [],
   "source": []
  },
  {
   "cell_type": "code",
   "execution_count": null,
   "metadata": {},
   "outputs": [],
   "source": []
  }
 ],
 "metadata": {
  "kernelspec": {
   "display_name": "Python 3",
   "language": "python",
   "name": "python3"
  },
  "language_info": {
   "codemirror_mode": {
    "name": "ipython",
    "version": 3
   },
   "file_extension": ".py",
   "mimetype": "text/x-python",
   "name": "python",
   "nbconvert_exporter": "python",
   "pygments_lexer": "ipython3",
   "version": "3.6.7"
  }
 },
 "nbformat": 4,
 "nbformat_minor": 2
}
