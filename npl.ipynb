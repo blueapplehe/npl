{
 "cells": [
  {
   "cell_type": "code",
   "execution_count": 1,
   "metadata": {},
   "outputs": [
    {
     "name": "stderr",
     "output_type": "stream",
     "text": [
      "Using TensorFlow backend.\n"
     ]
    }
   ],
   "source": [
    "from keras.layers import SimpleRNN\n",
    "from keras.layers import LSTM\n",
    "from keras.models import Sequential\n",
    "from keras.layers import Embedding,SimpleRNN\n",
    "from keras.datasets import imdb\n",
    "from keras.preprocessing import sequence\n",
    "from keras.layers import Dense\n",
    "import numpy as np\n",
    "import sys\n",
    "sys.path.append(\"/data/keras/npl/\")\n",
    "from baidunpl import BaiduNpl"
   ]
  },
  {
   "cell_type": "code",
   "execution_count": 2,
   "metadata": {},
   "outputs": [
    {
     "name": "stdout",
     "output_type": "stream",
     "text": [
      "(15, 10, 1024)\n",
      "Epoch 1/15\n",
      "15/15 [==============================] - 1s 83ms/step - loss: 1.5857 - acc: 0.4000\n",
      "Epoch 2/15\n",
      "15/15 [==============================] - 0s 4ms/step - loss: 1.3877 - acc: 0.8667\n",
      "Epoch 3/15\n",
      "15/15 [==============================] - 0s 4ms/step - loss: 1.2120 - acc: 0.8000\n",
      "Epoch 4/15\n",
      "15/15 [==============================] - 0s 4ms/step - loss: 1.0343 - acc: 0.9333\n",
      "Epoch 5/15\n",
      "15/15 [==============================] - 0s 4ms/step - loss: 0.8824 - acc: 0.9333\n",
      "Epoch 6/15\n",
      "15/15 [==============================] - 0s 4ms/step - loss: 0.7776 - acc: 1.0000\n",
      "Epoch 7/15\n",
      "15/15 [==============================] - 0s 4ms/step - loss: 0.6802 - acc: 0.9333\n",
      "Epoch 8/15\n",
      "15/15 [==============================] - 0s 4ms/step - loss: 0.6020 - acc: 0.9333\n",
      "Epoch 9/15\n",
      "15/15 [==============================] - 0s 4ms/step - loss: 0.5404 - acc: 1.0000\n",
      "Epoch 10/15\n",
      "15/15 [==============================] - 0s 4ms/step - loss: 0.4745 - acc: 1.0000\n",
      "Epoch 11/15\n",
      "15/15 [==============================] - 0s 4ms/step - loss: 0.4301 - acc: 1.0000\n",
      "Epoch 12/15\n",
      "15/15 [==============================] - 0s 4ms/step - loss: 0.3737 - acc: 1.0000\n",
      "Epoch 13/15\n",
      "15/15 [==============================] - 0s 4ms/step - loss: 0.3281 - acc: 1.0000\n",
      "Epoch 14/15\n",
      "15/15 [==============================] - 0s 4ms/step - loss: 0.2906 - acc: 1.0000\n",
      "Epoch 15/15\n",
      "15/15 [==============================] - 0s 4ms/step - loss: 0.2515 - acc: 1.0000\n"
     ]
    }
   ],
   "source": [
    "client=BaiduNpl()\n",
    "model = Sequential()\n",
    "model.add(LSTM(32))\n",
    "# model.add(Dense(1, activation='sigmoid'))\n",
    "model.add(Dense(64,activation='relu'))\n",
    "model.add(Dense(5,activation='softmax'))\n",
    "model.compile(optimizer='rmsprop',\n",
    "              loss='categorical_crossentropy',\n",
    "              metrics=['acc'])\n",
    "\n",
    "input_train=[\"后天天气如何\",\"明天天气如何\",\"下周一的天气\",\n",
    "             \"我要去江门\",\"我要去北京故宫的中心\",\"导航到广州长隆\",\n",
    "             \"我想听张韶涵的歌\",\"来一首张学友的歌\",\"我想听卓依婷的歌\",\n",
    "             \"六点提醒我开会\",\"五分钟后提醒睡觉\",\"下午两点提醒我上学\",\n",
    "             \"感冒了吃什么药\",\"发烧了怎么办\",\"眼睛不舒服怎么处理\"]\n",
    "y_train=np.array([[1,0,0,0,0],[1,0,0,0,0],[1,0,0,0,0],#问天气\n",
    "                  [0,1,0,0,0],[0,1,0,0,0],[0,1,0,0,0],#导航\n",
    "                  [0,0,1,0,0],[0,0,1,0,0],[0,0,1,0,0],#唱歌\n",
    "                  [0,0,0,1,0],[0,0,0,1,0],[0,0,0,1,0],#提醒功能\n",
    "                  [0,0,0,0,1],[0,0,0,0,1],[0,0,0,0,1]#医疗咨询\n",
    "                 ])\n",
    "input_train2=[]\n",
    "for one_train in input_train:\n",
    "    vecs=client.getVecFromJuzi(one_train)\n",
    "    input_train2.append(vecs)\n",
    "input_train2=np.array(input_train2)\n",
    "\n",
    "input_train2=sequence.pad_sequences(input_train2,dtype=\"float\",maxlen=10,padding='post',truncating='post',)\n",
    "print(input_train2.shape)\n",
    "history = model.fit(input_train2, y_train,epochs=15,batch_size=5)"
   ]
  },
  {
   "cell_type": "code",
   "execution_count": 5,
   "metadata": {},
   "outputs": [
    {
     "name": "stdout",
     "output_type": "stream",
     "text": [
      "[[0.8672072  0.01300291 0.04431497 0.01018356 0.06529141]\n",
      " [0.01103215 0.60931677 0.02526247 0.29438505 0.06000359]\n",
      " [0.06556533 0.05582128 0.67360616 0.17635721 0.02865007]\n",
      " [0.01030163 0.23318847 0.06211161 0.6547908  0.0396075 ]\n",
      " [0.03270157 0.01632417 0.00789019 0.00804777 0.9350363 ]]\n"
     ]
    }
   ],
   "source": [
    "tests=[\"星期二天气\",\"导航到动物园\",\"我想听周杰伦的歌\",\"五点提醒我\",\"得了结膜炎怎么处理\"]\n",
    "vecs2=[]\n",
    "for test in tests: \n",
    "    vecs=client.getVecFromJuzi(test)  \n",
    "    vecs2.append(vecs)\n",
    "vecs=np.array(vecs2)\n",
    "vecs2=sequence.pad_sequences(vecs2,dtype=\"float\",maxlen=10,padding='post',truncating='post',)\n",
    "preds = model.predict(vecs2)\n",
    "print(preds)"
   ]
  },
  {
   "cell_type": "code",
   "execution_count": null,
   "metadata": {},
   "outputs": [],
   "source": []
  },
  {
   "cell_type": "code",
   "execution_count": null,
   "metadata": {},
   "outputs": [],
   "source": []
  },
  {
   "cell_type": "code",
   "execution_count": null,
   "metadata": {},
   "outputs": [],
   "source": []
  },
  {
   "cell_type": "code",
   "execution_count": null,
   "metadata": {},
   "outputs": [],
   "source": []
  },
  {
   "cell_type": "code",
   "execution_count": null,
   "metadata": {},
   "outputs": [],
   "source": []
  }
 ],
 "metadata": {
  "kernelspec": {
   "display_name": "Python 3",
   "language": "python",
   "name": "python3"
  },
  "language_info": {
   "codemirror_mode": {
    "name": "ipython",
    "version": 3
   },
   "file_extension": ".py",
   "mimetype": "text/x-python",
   "name": "python",
   "nbconvert_exporter": "python",
   "pygments_lexer": "ipython3",
   "version": "3.6.7"
  }
 },
 "nbformat": 4,
 "nbformat_minor": 2
}
