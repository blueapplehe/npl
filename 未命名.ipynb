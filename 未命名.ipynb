{
 "cells": [
  {
   "cell_type": "code",
   "execution_count": null,
   "metadata": {},
   "outputs": [
    {
     "name": "stderr",
     "output_type": "stream",
     "text": [
      "Using TensorFlow backend.\n"
     ]
    }
   ],
   "source": [
    "from keras.layers import SimpleRNN\n",
    "from keras.layers import LSTM\n",
    "from keras.models import Sequential\n",
    "from keras.layers import Embedding,SimpleRNN\n",
    "from keras.datasets import imdb\n",
    "from keras.preprocessing import sequence\n",
    "from keras.layers import Dense\n",
    "import numpy as np\n",
    "import sys\n",
    "sys.path.append(\"/data/keras/npl/\")\n",
    "from baidunpl import BaiduNpl\n",
    "max_features=10000\n",
    "maxlen=5\n",
    "batch_size=32\n",
    "(input_train,y_train),(input_test,y_test)=imdb.load_data(num_words=max_features)\n",
    "print(y_train.shape)\n",
    "#print(input_train)\n",
    "input_train=sequence.pad_sequences(input_train,maxlen=maxlen)\n",
    "input_test=sequence.pad_sequences(input_test,maxlen=maxlen)\n",
    "print(input_train.shape)\n",
    "print(input_train[0])\n"
   ]
  },
  {
   "cell_type": "code",
   "execution_count": null,
   "metadata": {},
   "outputs": [],
   "source": [
    "\n",
    "    \n"
   ]
  },
  {
   "cell_type": "code",
   "execution_count": null,
   "metadata": {},
   "outputs": [],
   "source": [
    "client=BaiduNpl()\n",
    "model = Sequential()\n",
    "model.add(LSTM(32))\n",
    "# model.add(Dense(1, activation='sigmoid'))\n",
    "model.add(Dense(256,activation='relu'))\n",
    "model.add(Dense(5,activation='softmax'))\n",
    "model.compile(optimizer='rmsprop',\n",
    "              loss='categorical_crossentropy',\n",
    "              metrics=['acc'])\n",
    "\n",
    "input_train=[\"后天天气如何\",\"明天天气如何\",\"下周一的天气\",\n",
    "             \"我要去江门\",\"我要去北京故宫的中心\",\"广州长隆怎么去\",\n",
    "             \"我想听张韶涵的歌\",\"来一首张学友的歌\",\"我想听卓依婷的歌\",\n",
    "             \"六点钟提醒我开会\",\"五分钟后提醒睡觉\",\"下午两点提醒我上学\",\n",
    "             \"感冒了吃什么药\",\"发烧了怎么办\",\"眼睛不舒服怎么处理\"]\n",
    "y_train=np.array([[1,0,0,0,0],[1,0,0,0,0],[1,0,0,0,0],\n",
    "                  [0,1,0,0,0],[0,1,0,0,0],[0,1,0,0,0],\n",
    "                  [0,0,1,0,0],[0,0,1,0,0],[0,0,1,0,0],\n",
    "                  [0,0,0,1,0],[0,0,0,1,0],[0,0,0,1,0],\n",
    "                  [0,0,0,0,1],[0,0,0,0,1],[0,0,0,0,1]\n",
    "                 ])\n",
    "input_train2=[]\n",
    "for one_train in input_train:\n",
    "    vecs=client.getVecFromJuzi(one_train)\n",
    "    input_train2.append(vecs)\n",
    "input_train2=np.array(input_train2)\n",
    "\n",
    "input_train2=sequence.pad_sequences(input_train2,dtype=\"float\",maxlen=20,padding='post',truncating='post',)\n",
    "print(input_train2.shape)\n",
    "history = model.fit(input_train2, y_train,epochs=20,batch_size=5)"
   ]
  },
  {
   "cell_type": "code",
   "execution_count": null,
   "metadata": {},
   "outputs": [],
   "source": [
    "tests=[\"明天会下雨吗\",\"导航到动物园\",\"我想听周杰伦的歌\",\"五点钟提醒我出门\",\"得了结膜炎怎么处理\"]\n",
    "vecs2=[]\n",
    "for test in tests: \n",
    "    vecs=client.getVecFromJuzi(test)  \n",
    "    vecs2.append(vecs)\n",
    "vecs=np.array(vecs2)\n",
    "vecs2=sequence.pad_sequences(vecs2,dtype=\"float\",maxlen=20,padding='post',truncating='post',)\n",
    "print(vecs2.shape)\n",
    "print(vecs2[0])\n",
    "preds = model.predict(vecs2)\n",
    "print(preds)"
   ]
  },
  {
   "cell_type": "code",
   "execution_count": null,
   "metadata": {},
   "outputs": [],
   "source": [
    "# import matplotlib.pyplot as plt\n",
    "# acc=history.history['acc']\n",
    "# val_acc=history.history['val_acc']\n",
    "# loss=history.history['loss']\n",
    "# val_loss=history.history['val_loss']\n",
    "# epochs=range(1,len(acc)+1)\n",
    "# plt.plot(epochs,acc,'bo',label='Training acc')\n",
    "# plt.plot(epochs,val_acc,'b',label='Validation acc')\n",
    "# plt.legend()\n",
    "# plt.figure()\n",
    "# plt.show()"
   ]
  },
  {
   "cell_type": "code",
   "execution_count": null,
   "metadata": {},
   "outputs": [],
   "source": []
  },
  {
   "cell_type": "code",
   "execution_count": null,
   "metadata": {},
   "outputs": [],
   "source": []
  },
  {
   "cell_type": "code",
   "execution_count": null,
   "metadata": {},
   "outputs": [],
   "source": []
  },
  {
   "cell_type": "code",
   "execution_count": null,
   "metadata": {},
   "outputs": [],
   "source": []
  }
 ],
 "metadata": {
  "kernelspec": {
   "display_name": "Python 3",
   "language": "python",
   "name": "python3"
  },
  "language_info": {
   "codemirror_mode": {
    "name": "ipython",
    "version": 3
   },
   "file_extension": ".py",
   "mimetype": "text/x-python",
   "name": "python",
   "nbconvert_exporter": "python",
   "pygments_lexer": "ipython3",
   "version": "3.6.7"
  }
 },
 "nbformat": 4,
 "nbformat_minor": 2
}
