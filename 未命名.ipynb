{
 "cells": [
  {
   "cell_type": "code",
   "execution_count": 1,
   "metadata": {},
   "outputs": [
    {
     "name": "stderr",
     "output_type": "stream",
     "text": [
      "Using TensorFlow backend.\n"
     ]
    },
    {
     "name": "stdout",
     "output_type": "stream",
     "text": [
      "(25000,)\n",
      "(25000, 5)\n",
      "[  16 5345   19  178   32]\n"
     ]
    }
   ],
   "source": [
    "from keras.layers import SimpleRNN\n",
    "from keras.layers import LSTM\n",
    "from keras.models import Sequential\n",
    "from keras.layers import Embedding,SimpleRNN\n",
    "from keras.datasets import imdb\n",
    "from keras.preprocessing import sequence\n",
    "from keras.layers import Dense\n",
    "import numpy as np\n",
    "import sys\n",
    "sys.path.append(\"/data/keras/npl/\")\n",
    "from baidunpl import BaiduNpl\n",
    "max_features=10000\n",
    "maxlen=5\n",
    "batch_size=32\n",
    "(input_train,y_train),(input_test,y_test)=imdb.load_data(num_words=max_features)\n",
    "print(y_train.shape)\n",
    "#print(input_train)\n",
    "input_train=sequence.pad_sequences(input_train,maxlen=maxlen)\n",
    "input_test=sequence.pad_sequences(input_test,maxlen=maxlen)\n",
    "print(input_train.shape)\n",
    "print(input_train[0])\n"
   ]
  },
  {
   "cell_type": "code",
   "execution_count": null,
   "metadata": {},
   "outputs": [],
   "source": [
    "\n",
    "    \n"
   ]
  },
  {
   "cell_type": "code",
   "execution_count": 2,
   "metadata": {},
   "outputs": [
    {
     "name": "stdout",
     "output_type": "stream",
     "text": [
      "(15, 20, 1024)\n",
      "Epoch 1/15\n",
      "15/15 [==============================] - 1s 85ms/step - loss: 1.6093 - acc: 0.2667\n",
      "Epoch 2/15\n",
      "15/15 [==============================] - 0s 6ms/step - loss: 1.5732 - acc: 0.6000\n",
      "Epoch 3/15\n",
      "15/15 [==============================] - 0s 6ms/step - loss: 1.4941 - acc: 0.7333\n",
      "Epoch 4/15\n",
      "15/15 [==============================] - 0s 7ms/step - loss: 1.3834 - acc: 0.8000\n",
      "Epoch 5/15\n",
      "15/15 [==============================] - 0s 7ms/step - loss: 1.2718 - acc: 0.8000\n",
      "Epoch 6/15\n",
      "15/15 [==============================] - 0s 7ms/step - loss: 1.1932 - acc: 0.8667\n",
      "Epoch 7/15\n",
      "15/15 [==============================] - 0s 7ms/step - loss: 1.0996 - acc: 0.9333\n",
      "Epoch 8/15\n",
      "15/15 [==============================] - 0s 7ms/step - loss: 1.0102 - acc: 0.9333\n",
      "Epoch 9/15\n",
      "15/15 [==============================] - 0s 7ms/step - loss: 0.9202 - acc: 1.0000\n",
      "Epoch 10/15\n",
      "15/15 [==============================] - 0s 7ms/step - loss: 0.8283 - acc: 1.0000\n",
      "Epoch 11/15\n",
      "15/15 [==============================] - 0s 7ms/step - loss: 0.7389 - acc: 1.0000\n",
      "Epoch 12/15\n",
      "15/15 [==============================] - 0s 6ms/step - loss: 0.6470 - acc: 1.0000\n",
      "Epoch 13/15\n",
      "15/15 [==============================] - 0s 7ms/step - loss: 0.5800 - acc: 1.0000\n",
      "Epoch 14/15\n",
      "15/15 [==============================] - 0s 6ms/step - loss: 0.5054 - acc: 1.0000\n",
      "Epoch 15/15\n",
      "15/15 [==============================] - 0s 7ms/step - loss: 0.4596 - acc: 1.0000\n"
     ]
    }
   ],
   "source": [
    "client=BaiduNpl()\n",
    "model = Sequential()\n",
    "model.add(LSTM(32))\n",
    "# model.add(Dense(1, activation='sigmoid'))\n",
    "model.add(Dense(64,activation='relu'))\n",
    "model.add(Dense(5,activation='softmax'))\n",
    "model.compile(optimizer='rmsprop',\n",
    "              loss='categorical_crossentropy',\n",
    "              metrics=['acc'])\n",
    "\n",
    "input_train=[\"后天天气如何\",\"明天天气如何\",\"下周一的天气\",\n",
    "             \"我要去江门\",\"我要去北京故宫的中心\",\"导航到广州长隆\",\n",
    "             \"我想听张韶涵的歌\",\"来一首张学友的歌\",\"我想听卓依婷的歌\",\n",
    "             \"六点提醒我开会\",\"五分钟后提醒睡觉\",\"下午两点提醒我上学\",\n",
    "             \"感冒了吃什么药\",\"发烧了怎么办\",\"眼睛不舒服怎么处理\"]\n",
    "y_train=np.array([[1,0,0,0,0],[1,0,0,0,0],[1,0,0,0,0],#问天气\n",
    "                  [0,1,0,0,0],[0,1,0,0,0],[0,1,0,0,0],#导航\n",
    "                  [0,0,1,0,0],[0,0,1,0,0],[0,0,1,0,0],#唱歌\n",
    "                  [0,0,0,1,0],[0,0,0,1,0],[0,0,0,1,0],#提醒功能\n",
    "                  [0,0,0,0,1],[0,0,0,0,1],[0,0,0,0,1]#医疗咨询\n",
    "                 ])\n",
    "input_train2=[]\n",
    "for one_train in input_train:\n",
    "    vecs=client.getVecFromJuzi(one_train)\n",
    "    input_train2.append(vecs)\n",
    "input_train2=np.array(input_train2)\n",
    "\n",
    "input_train2=sequence.pad_sequences(input_train2,dtype=\"float\",maxlen=20,padding='post',truncating='post',)\n",
    "print(input_train2.shape)\n",
    "history = model.fit(input_train2, y_train,epochs=15,batch_size=5)"
   ]
  },
  {
   "cell_type": "code",
   "execution_count": 6,
   "metadata": {},
   "outputs": [
    {
     "name": "stdout",
     "output_type": "stream",
     "text": [
      "(5, 20, 1024)\n",
      "[[-1.11579  -0.178418  1.74141  ... -0.318689 -1.43508   0.107404]\n",
      " [ 0.        0.        0.       ...  0.        0.        0.      ]\n",
      " [ 0.        0.        0.       ...  0.        0.        0.      ]\n",
      " ...\n",
      " [ 0.        0.        0.       ...  0.        0.        0.      ]\n",
      " [ 0.        0.        0.       ...  0.        0.        0.      ]\n",
      " [ 0.        0.        0.       ...  0.        0.        0.      ]]\n",
      "[[0.6742539  0.09278884 0.04856174 0.10723553 0.07715999]\n",
      " [0.06700046 0.5853737  0.19827688 0.04617331 0.10317557]\n",
      " [0.00415179 0.04095656 0.92586887 0.00392235 0.0251005 ]\n",
      " [0.09371153 0.02938469 0.04143962 0.5146642  0.32079998]\n",
      " [0.01803083 0.02271373 0.1022286  0.2444688  0.612558  ]]\n"
     ]
    }
   ],
   "source": [
    "tests=[\"星期二天气\",\"导航到动物园\",\"我想听周杰伦的歌\",\"五点提醒我\",\"得了结膜炎怎么处理\"]\n",
    "vecs2=[]\n",
    "for test in tests: \n",
    "    vecs=client.getVecFromJuzi(test)  \n",
    "    vecs2.append(vecs)\n",
    "vecs=np.array(vecs2)\n",
    "vecs2=sequence.pad_sequences(vecs2,dtype=\"float\",maxlen=20,padding='post',truncating='post',)\n",
    "print(vecs2.shape)\n",
    "print(vecs2[0])\n",
    "preds = model.predict(vecs2)\n",
    "print(preds)"
   ]
  },
  {
   "cell_type": "code",
   "execution_count": 4,
   "metadata": {},
   "outputs": [],
   "source": [
    "# import matplotlib.pyplot as plt\n",
    "# acc=history.history['acc']\n",
    "# val_acc=history.history['val_acc']\n",
    "# loss=history.history['loss']\n",
    "# val_loss=history.history['val_loss']\n",
    "# epochs=range(1,len(acc)+1)\n",
    "# plt.plot(epochs,acc,'bo',label='Training acc')\n",
    "# plt.plot(epochs,val_acc,'b',label='Validation acc')\n",
    "# plt.legend()\n",
    "# plt.figure()\n",
    "# plt.show()"
   ]
  },
  {
   "cell_type": "code",
   "execution_count": null,
   "metadata": {},
   "outputs": [],
   "source": []
  },
  {
   "cell_type": "code",
   "execution_count": null,
   "metadata": {},
   "outputs": [],
   "source": []
  },
  {
   "cell_type": "code",
   "execution_count": null,
   "metadata": {},
   "outputs": [],
   "source": []
  },
  {
   "cell_type": "code",
   "execution_count": null,
   "metadata": {},
   "outputs": [],
   "source": []
  }
 ],
 "metadata": {
  "kernelspec": {
   "display_name": "Python 3",
   "language": "python",
   "name": "python3"
  },
  "language_info": {
   "codemirror_mode": {
    "name": "ipython",
    "version": 3
   },
   "file_extension": ".py",
   "mimetype": "text/x-python",
   "name": "python",
   "nbconvert_exporter": "python",
   "pygments_lexer": "ipython3",
   "version": "3.6.7"
  }
 },
 "nbformat": 4,
 "nbformat_minor": 2
}
